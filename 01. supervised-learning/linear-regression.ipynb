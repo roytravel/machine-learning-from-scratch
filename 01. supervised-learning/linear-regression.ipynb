{
 "cells": [
  {
   "cell_type": "code",
   "execution_count": 65,
   "metadata": {
    "collapsed": true
   },
   "outputs": [],
   "source": [
    "import numpy as np\n",
    "import matplotlib.pyplot as plt\n",
    "from sklearn.model_selection import train_test_split\n",
    "from sklearn.datasets import load_digits"
   ]
  },
  {
   "cell_type": "code",
   "execution_count": 66,
   "outputs": [],
   "source": [
    "class LinearRegression(object):\n",
    "    def __init__(self, learning_rate=0.001, n_iters=1000):\n",
    "        self.learning_rate = learning_rate # 학습률\n",
    "        self.n_iters = n_iters # Iteration\n",
    "        self.weights = None # 가중치\n",
    "        self.bias = None # 편향\n",
    "\n",
    "    def fit(self, X, y):\n",
    "        # (샘플 개수, 피처 개수)\n",
    "        n_samples, n_features = X.shape\n",
    "\n",
    "        self.weights = np.zeros(n_features)\n",
    "        self.bias = 0\n",
    "\n",
    "        # gradient descent (경사 하강법)\n",
    "        for _ in range(self.n_iters):\n",
    "            # 예측 = 데이터 * 가중치 + 편향\n",
    "            y_pred = np.dot(X, self.weights) + self.bias\n",
    "\n",
    "            # compute gradients (기울기 계산)\n",
    "            dw = (1 / n_samples) * np.dot(X.T, (y_pred - y))\n",
    "            db = (1 / n_samples) * np.sum(y_pred - y)\n",
    "\n",
    "            # update parameters (파라미터 업데이트)\n",
    "            self.weights = self.weights - (self.learning_rate * dw)\n",
    "            self.bias = self.bias - (self.learning_rate * db)\n",
    "\n",
    "\n",
    "    def predict(self, X):\n",
    "        y_pred = np.dot(X, self.weights) + self.bias\n",
    "        return y_pred\n"
   ],
   "metadata": {
    "collapsed": false,
    "pycharm": {
     "name": "#%%\n"
    }
   }
  },
  {
   "cell_type": "code",
   "execution_count": 67,
   "outputs": [
    {
     "ename": "SyntaxError",
     "evalue": "invalid syntax (<ipython-input-67-bc5e186dd054>, line 16)",
     "output_type": "error",
     "traceback": [
      "\u001B[1;36m  File \u001B[1;32m\"<ipython-input-67-bc5e186dd054>\"\u001B[1;36m, line \u001B[1;32m16\u001B[0m\n\u001B[1;33m    def plot(X, X_train, y_train, X_test, y_test)\u001B[0m\n\u001B[1;37m                                                 ^\u001B[0m\n\u001B[1;31mSyntaxError\u001B[0m\u001B[1;31m:\u001B[0m invalid syntax\n"
     ]
    }
   ],
   "source": [
    "def r2_score(y_true, y_pred):\n",
    "    \"\"\"\n",
    "    # 결정 계수 계산\n",
    "    It represent the explainablity of regression model. (회귀 모형의 설명력 표현)\n",
    "    0: Min explainability (설명력 낮음)\n",
    "    1: Max explainability (설명력 높음)\n",
    "    \"\"\"\n",
    "    corr_matrix = np.corrcoef(y_true, y_pred)\n",
    "    corr = corr_matrix[0, 1]\n",
    "    return corr ** 2\n",
    "\n",
    "\n",
    "def mean_squared_error(y_true, y_pred):\n",
    "    return np.mean((y_true - y_pred) ** 2)\n",
    "\n",
    "def plot(X, X_train, y_train, X_test, y_test)"
   ],
   "metadata": {
    "collapsed": false,
    "pycharm": {
     "name": "#%%\n"
    }
   }
  },
  {
   "cell_type": "code",
   "execution_count": 74,
   "outputs": [],
   "source": [
    "def main():\n",
    "    # 데이터셋 로드\n",
    "    X, y = datasets.make_regression(n_samples=1000, n_features=1, noise=20, random_state=2021)\n",
    "\n",
    "    # 데이터셋 분할\n",
    "    X_train, X_test, y_train, y_test = train_test_split(X, y, test_size=0.2, random_state=2021)\n",
    "\n",
    "    # 회귀 모델 객체 생성\n",
    "    LR = LinearRegression(learning_rate=0.001, n_iters=1000)\n",
    "\n",
    "    # 회귀 모델 학습\n",
    "    LR.fit(X_train, y_train)\n",
    "\n",
    "    # 학습 예측 값 출력\n",
    "    y_pred = LR.predict(X_test)\n",
    "\n",
    "    # 평가 메트릭(mse, r2_score)\n",
    "    mse = mean_squared_error(y_test, y_pred)\n",
    "    accuracy = r2_score(y_test, y_pred)\n",
    "    print (f\"{mse}\")\n",
    "    print (f\"{accuracy}\")\n",
    "\n",
    "    y_pred_linear = LR.predict(X)\n",
    "    cmap = plt.get_cmap('viridis')\n",
    "    plt.figure(figsize=(8, 6))\n",
    "    plt.scatter(X_train, y_train, color=cmap(0.5), s=10)\n",
    "    plt.scatter(X_test, y_test, color=cmap(0.5), s=10)\n",
    "    plt.plot(X, y_pred_linear, color=\"green\", linewidth=3, label=\"prediction\")\n",
    "    plt.xlabel('X')\n",
    "    plt.ylabel('y')\n",
    "    plt.savefig('LinearRegression')\n",
    "    plt.show()"
   ],
   "metadata": {
    "collapsed": false,
    "pycharm": {
     "name": "#%%\n"
    }
   }
  },
  {
   "cell_type": "code",
   "execution_count": 73,
   "outputs": [
    {
     "name": "stdout",
     "output_type": "stream",
     "text": [
      "588.1901032370623\n",
      "0.7932776136325748\n"
     ]
    },
    {
     "ename": "AttributeError",
     "evalue": "module 'matplotlib.pyplot' has no attribute 'figsave'",
     "output_type": "error",
     "traceback": [
      "\u001B[1;31m---------------------------------------------------------------------------\u001B[0m",
      "\u001B[1;31mAttributeError\u001B[0m                            Traceback (most recent call last)",
      "\u001B[1;32m<ipython-input-73-7f8c117b4a91>\u001B[0m in \u001B[0;36m<module>\u001B[1;34m\u001B[0m\n\u001B[0;32m      1\u001B[0m \u001B[1;32mif\u001B[0m \u001B[0m__name__\u001B[0m \u001B[1;33m==\u001B[0m \u001B[1;34m\"__main__\"\u001B[0m\u001B[1;33m:\u001B[0m\u001B[1;33m\u001B[0m\u001B[1;33m\u001B[0m\u001B[0m\n\u001B[1;32m----> 2\u001B[1;33m     \u001B[0mmain\u001B[0m\u001B[1;33m(\u001B[0m\u001B[1;33m)\u001B[0m\u001B[1;33m\u001B[0m\u001B[1;33m\u001B[0m\u001B[0m\n\u001B[0m\u001B[0;32m      3\u001B[0m \u001B[1;33m\u001B[0m\u001B[0m\n",
      "\u001B[1;32m<ipython-input-72-141db3f77af7>\u001B[0m in \u001B[0;36mmain\u001B[1;34m()\u001B[0m\n\u001B[0;32m     29\u001B[0m     \u001B[0mplt\u001B[0m\u001B[1;33m.\u001B[0m\u001B[0mxlabel\u001B[0m\u001B[1;33m(\u001B[0m\u001B[1;34m'X'\u001B[0m\u001B[1;33m)\u001B[0m\u001B[1;33m\u001B[0m\u001B[1;33m\u001B[0m\u001B[0m\n\u001B[0;32m     30\u001B[0m     \u001B[0mplt\u001B[0m\u001B[1;33m.\u001B[0m\u001B[0mylabel\u001B[0m\u001B[1;33m(\u001B[0m\u001B[1;34m'y'\u001B[0m\u001B[1;33m)\u001B[0m\u001B[1;33m\u001B[0m\u001B[1;33m\u001B[0m\u001B[0m\n\u001B[1;32m---> 31\u001B[1;33m     \u001B[0mplt\u001B[0m\u001B[1;33m.\u001B[0m\u001B[0mfigsave\u001B[0m\u001B[1;33m(\u001B[0m\u001B[1;34m'LinearRegression'\u001B[0m\u001B[1;33m)\u001B[0m\u001B[1;33m\u001B[0m\u001B[1;33m\u001B[0m\u001B[0m\n\u001B[0m\u001B[0;32m     32\u001B[0m     \u001B[0mplt\u001B[0m\u001B[1;33m.\u001B[0m\u001B[0mshow\u001B[0m\u001B[1;33m(\u001B[0m\u001B[1;33m)\u001B[0m\u001B[1;33m\u001B[0m\u001B[1;33m\u001B[0m\u001B[0m\n\u001B[0;32m     33\u001B[0m \u001B[1;33m\u001B[0m\u001B[0m\n",
      "\u001B[1;31mAttributeError\u001B[0m: module 'matplotlib.pyplot' has no attribute 'figsave'"
     ]
    },
    {
     "data": {
      "text/plain": "<Figure size 576x432 with 1 Axes>",
      "image/png": "[encoded data removed]"
     },
     "metadata": {
      "needs_background": "light"
     },
     "output_type": "display_data"
    }
   ],
   "source": [
    "if __name__ == \"__main__\":\n",
    "    main()\n"
   ],
   "metadata": {
    "collapsed": false,
    "pycharm": {
     "name": "#%%\n"
    }
   }
  },
  {
   "cell_type": "code",
   "execution_count": null,
   "outputs": [],
   "source": [],
   "metadata": {
    "collapsed": false,
    "pycharm": {
     "name": "#%%\n"
    }
   }
  }
 ],
 "metadata": {
  "kernelspec": {
   "name": "pattern",
   "language": "python",
   "display_name": "pattern"
  },
  "language_info": {
   "codemirror_mode": {
    "name": "ipython",
    "version": 2
   },
   "file_extension": ".py",
   "mimetype": "text/x-python",
   "name": "python",
   "nbconvert_exporter": "python",
   "pygments_lexer": "ipython2",
   "version": "2.7.6"
  }
 },
 "nbformat": 4,
 "nbformat_minor": 0
}